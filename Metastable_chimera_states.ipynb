{
  "cells": [
    {
      "cell_type": "markdown",
      "metadata": {
        "id": "tr_kfikRvh82"
      },
      "source": [
        "# Metastable Chimera States\n",
        "\n",
        "Murray Shanahan\n",
        "\n",
        "January 2022\n",
        "\n",
        "This notebook will generate metastable chimera states based on the Kuramoto model of oscillator dynamics, as first described in:\n",
        "\n",
        "Shanahan, M. (2010). Metastable chimera states in community-structured oscillator networks. Chaos 20, 013108.\n",
        "\n",
        "The oscillators are connected in a community-structured (modular) network. Running all the cells will produce a plot of synchrony in the eight communities of oscillators, presenting an ever-changing ever-changing pattern of combined synchronisation and desynchronisation that never settles into a stable state.\n",
        "\n",
        "See also:\n",
        "\n",
        "Mediano, P.A.M., Rosas, F.E., Farah, J.C., Shanahan, M., Bor, D. & Barrett, A.B. (2022). Integrated information as a common signature of dynamical and information-processing complexity. Chaos 32, 013115."
      ]
    },
    {
      "cell_type": "code",
      "execution_count": 1,
      "metadata": {
        "id": "a4YKukSQrmE7"
      },
      "outputs": [],
      "source": [
        "import numpy as np\n",
        "from numpy import random\n",
        "import matplotlib.pyplot as plt"
      ]
    },
    {
      "cell_type": "code",
      "execution_count": 2,
      "metadata": {
        "id": "MAH_3LU1oR_x"
      },
      "outputs": [],
      "source": [
        "# Parameters\n",
        "\n",
        "b = 0.1  # phase lag parameter (beta) - default is 0.1\n",
        "a = np.pi / 2 - b  # phase lag (alpha)\n",
        "\n",
        "k = 0.2  # coupling parameter - default is 0.2\n",
        "k1 = (1 - k) / 2  # inter-community coupling strength\n",
        "k0 = 1 - k1  # intra-community coupling strength\n",
        "\n",
        "n0 = 32  # community size\n",
        "n1 = 8  # number of communities\n",
        "n_tot = n0 * n1  # total number of oscillators\n",
        "\n",
        "d0 = 32  # number of intra-community connections\n",
        "d1 = 32  # number of inter-community connections"
      ]
    },
    {
      "cell_type": "code",
      "execution_count": 9,
      "metadata": {
        "id": "snj8aY8U7N0P"
      },
      "outputs": [],
      "source": [
        "# Plotting\n",
        "\n",
        "\n",
        "def plot_syncs(sync, t, T, ws):\n",
        "  '''Plot synchrony over time for each community.'''\n",
        "  print('Time step: {}'.format(t + 1))\n",
        "  print()\n",
        "  # Plot synchrony history\n",
        "  plt.figure(figsize=(12, 3))\n",
        "  plt.plot(ws * np.arange((T // ws)), sync, linewidth=1)\n",
        "  plt.xlabel('Time')\n",
        "  plt.ylabel('Synchrony')\n",
        "  plt.xlim((0, T))\n",
        "  plt.ylim((0, 1))\n",
        "  plt.show()\n",
        "\n",
        "\n",
        "def plot_phases(theta, t, n0, n1):\n",
        "  '''Generate dial plots of phases in each community.'''\n",
        "  prop_cycle = plt.rcParams['axes.prop_cycle']\n",
        "  colours = prop_cycle.by_key()['color']\n",
        "  plt.figure(figsize=(10, 2))\n",
        "  for i in range(n1):\n",
        "    plt.subplot(1, n1, i+1, aspect='equal')\n",
        "    data = np.exp(theta[t, i * n0 + 1:(i + 1) * n0] * 1j)\n",
        "    plt.scatter(data.real, data.imag,\n",
        "                marker='.', color=colours[i])\n",
        "    plt.xlim((-1, 1))\n",
        "    plt.ylim((-1, 1))\n",
        "    plt.xticks([])\n",
        "    plt.yticks([])\n",
        "  plt.show()"
      ]
    },
    {
      "cell_type": "code",
      "execution_count": 4,
      "metadata": {
        "id": "BYb8B65HooBk"
      },
      "outputs": [],
      "source": [
        "# Coupling matrix\n",
        "\n",
        "def build_matrix(n0, n1, d0, d1, k0, k1):\n",
        "  '''Build coupling matrix.'''\n",
        "  n_tot = n0 * n1  # total number of oscillators\n",
        "  K = np.zeros((n_tot, n_tot))\n",
        "  for i in range(n_tot):\n",
        "    x1 = np.mod(np.floor_divide(i, n0), n1) + 1  # community number\n",
        "    for j in range(i + 1, n_tot):\n",
        "      if i != j:  # ignore diagonals\n",
        "        y1 = np.mod(np.floor_divide(j, n0), n1) + 1  # community number\n",
        "        if x1 == y1:  # same community\n",
        "          p = d0 / n0\n",
        "          k = k0\n",
        "        else:  # different communities\n",
        "          p = d1 / (n0 * n1)\n",
        "          k = k1\n",
        "        if random.uniform() < p:\n",
        "          K[i, j] = k\n",
        "          K[j, i] = k\n",
        "  return K"
      ]
    },
    {
      "cell_type": "code",
      "execution_count": 5,
      "metadata": {
        "id": "jan17bRRvyEb"
      },
      "outputs": [],
      "source": [
        "def kuramoto(theta, t, w, K, a, Dmean):\n",
        "  '''Simulate the Kuramoto model using 4th-order Runge-Kutta method.'''\n",
        "  h = 0.05  # step size\n",
        "  hby2 = 0.5 * h\n",
        "  temp1 = theta[t-1, :]\n",
        "  for j in range(1, int(1 / h)):\n",
        "    temp2 = temp1\n",
        "    for i in range(n_tot):\n",
        "      # Numerical simulation using 4th-order Runge-Kutta method\n",
        "      rk1 = w[i] + np.dot(K[i], np.sin(temp2 - temp1[i] - a) / Dmean)\n",
        "      rk2 = w[i] + np.dot(K[i], np.sin(temp2 - (temp1[i] + hby2 * rk1) - a) / Dmean)\n",
        "      rk3 = w[i] + np.dot(K[i], np.sin(temp2 - (temp1[i] + hby2 * rk2) - a) / Dmean)\n",
        "      rk4 = w[i] + np.dot(K[i], np.sin(temp2 - (temp1[i] + h * rk3) - a) / Dmean)\n",
        "      temp1[i] += h * (rk1 + 2 * rk2 + 2 * rk3 + rk4) / 6\n",
        "  theta[t, :] = temp1\n",
        "  return theta\n",
        "\n",
        "\n",
        "def get_stats(sync, ws):\n",
        "  '''Calculate metastability and chimera index.'''\n",
        "  sync2 = sync[200 // ws:]  # ignore first 200 time steps\n",
        "  lmbda = np.mean(np.var(np.transpose(sync2), axis=-1))\n",
        "  chi = np.mean(np.var(sync2, axis=-1))\n",
        "  phi = np.mean(sync2)\n",
        "  return (lmbda, chi, phi)\n",
        "\n",
        "\n",
        "def main():\n",
        "\n",
        "  # Set up\n",
        "  w = np.ones(n_tot)  # identical natural frequencies\n",
        "  t_tot = 1000  # number of time steps\n",
        "  ws = 2  # window size for downsampling synchrony data - default is 2\n",
        "  theta = np.zeros((t_tot, n_tot))  # oscillator phases\n",
        "  theta[0] = random.uniform(size=n_tot) * 2 * np.pi - np.pi  # random initial phases\n",
        "  Dmean = d0 + d1  # average connections per oscillator\n",
        "  phi = np.zeros((t_tot, n1))  # synchrony data\n",
        "  tot_phi = np.zeros(n1)  # running total for synchrony over window\n",
        "  sync = np.zeros((t_tot // ws, n1))  # downsampled synchrony data\n",
        "  K = build_matrix(n0, n1, d0, d1, k0, k1)  # coupling matrix\n",
        "\n",
        "  for t in range(1, t_tot):\n",
        "\n",
        "    # Kuramoto model\n",
        "    theta = kuramoto(theta, t, w, K, a, Dmean)\n",
        "    # Normalise phases\n",
        "    theta[t, :] = np.mod(theta[t, :] + np.pi, 2 * np.pi) - np.pi\n",
        "\n",
        "    # Compute synchrony within communities\n",
        "    theta2 = np.reshape(theta, (t_tot, n1, n0))[t]\n",
        "    phi[t, :] = np.absolute(np.mean(np.exp(theta2 * 1j), axis=-1))\n",
        "\n",
        "    # Running total synchronies in downsampling window\n",
        "    if (t + 1) % ws == 0:\n",
        "      tot_phi += phi[t, :]\n",
        "      sync[t // ws, :] = tot_phi / ws  # average synchrony\n",
        "      tot_phi = np.zeros(n1)\n",
        "    else:\n",
        "      tot_phi += phi[t, :]\n",
        "\n",
        "    # Plotting\n",
        "    if (t + 1) % 100 == 0:\n",
        "      plot_syncs(sync, t, t_tot, ws)\n",
        "      plot_phases(theta, t, n0, n1)\n",
        "\n",
        "  # Display statistics for run\n",
        "  (lmbda, chi, phi) = get_stats(sync, ws)\n",
        "  print('Metastability = {:.3f}'.format(lmbda))\n",
        "  print('Chimera index = {:.3f}'.format(chi))\n",
        "  print('Mean synchrony = {:.3f}'.format(phi))"
      ]
    },
    {
      "cell_type": "code",
      "execution_count": null,
      "metadata": {},
      "outputs": [],
      "source": [
        "# visualise the coupling matrix\n",
        "K = build_matrix(n0, n1, d0, d1, k0, k1)\n",
        "\n",
        "fig, ax = plt.subplots()\n",
        "im = ax.imshow(K)\n",
        "fig.colorbar(im)"
      ]
    },
    {
      "cell_type": "code",
      "execution_count": null,
      "metadata": {
        "id": "OfMsFrUtcEyS"
      },
      "outputs": [],
      "source": [
        "main()"
      ]
    }
  ],
  "metadata": {
    "colab": {
      "collapsed_sections": [],
      "name": "Metastable chimera states.ipynb",
      "provenance": []
    },
    "kernelspec": {
      "display_name": "Python 3",
      "name": "python3"
    },
    "language_info": {
      "name": "python"
    }
  },
  "nbformat": 4,
  "nbformat_minor": 0
}
